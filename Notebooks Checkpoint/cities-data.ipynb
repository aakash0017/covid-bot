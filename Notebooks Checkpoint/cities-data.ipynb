{
 "metadata": {
  "language_info": {
   "codemirror_mode": {
    "name": "ipython",
    "version": 3
   },
   "file_extension": ".py",
   "mimetype": "text/x-python",
   "name": "python",
   "nbconvert_exporter": "python",
   "pygments_lexer": "ipython3",
   "version": "3.8.8"
  },
  "orig_nbformat": 2,
  "kernelspec": {
   "name": "python388jvsc74a57bd00df97f00cba6ca3b9fa5e333423c3e107000db4919e2ad790c404c8d12dbab42",
   "display_name": "Python 3.8.8 64-bit ('covidbot': conda)"
  },
  "metadata": {
   "interpreter": {
    "hash": "0df97f00cba6ca3b9fa5e333423c3e107000db4919e2ad790c404c8d12dbab42"
   }
  }
 },
 "nbformat": 4,
 "nbformat_minor": 2,
 "cells": [
  {
   "cell_type": "code",
   "execution_count": 1,
   "metadata": {},
   "outputs": [],
   "source": [
    "import pandas as pd\n",
    "import numpy as np"
   ]
  },
  {
   "cell_type": "code",
   "execution_count": 7,
   "metadata": {},
   "outputs": [],
   "source": [
    "df = pd.read_csv(\"../data/in.csv\")"
   ]
  },
  {
   "cell_type": "code",
   "execution_count": 10,
   "metadata": {},
   "outputs": [
    {
     "output_type": "execute_result",
     "data": {
      "text/plain": [
       "0           Delhi\n",
       "1          Mumbai\n",
       "2         Kolkāta\n",
       "3       Bangalore\n",
       "4         Chennai\n",
       "          ...    \n",
       "182        Panaji\n",
       "183         Damān\n",
       "184     Kavaratti\n",
       "185     Panchkula\n",
       "186    Kagaznāgār\n",
       "Name: city, Length: 187, dtype: object"
      ]
     },
     "metadata": {},
     "execution_count": 10
    }
   ],
   "source": [
    "df.city"
   ]
  },
  {
   "cell_type": "code",
   "execution_count": 11,
   "metadata": {},
   "outputs": [],
   "source": [
    "type_city = []\n",
    "for i in df.city:\n",
    "    type_city.append(type(i))"
   ]
  },
  {
   "cell_type": "code",
   "execution_count": null,
   "metadata": {},
   "outputs": [],
   "source": [
    "res_list = ['Verified Oxygen Cylinders', 'Plasma', 'Remdisvir', 'Hospital beds', 'Oximeter']"
   ]
  }
 ]
}